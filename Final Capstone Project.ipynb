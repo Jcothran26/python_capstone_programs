{
 "cells": [
  {
   "cell_type": "code",
   "execution_count": 9,
   "metadata": {},
   "outputs": [],
   "source": [
    "# Find Cost of Tile to Cover W x H Floor\n",
    "# Calculate the total cost of tile it would take\n",
    "# to cover a floor plan of width and height\n",
    "# using a cost entered by the user.\n",
    "\n",
    "def tile_cost():\n",
    "    \n",
    "    cost_per = float(input('What is the cost of the tile per square foot? '))\n",
    "    height = float(input('What is the height in feet? '))\n",
    "    width = float(input('What is the width in feet? '))\n",
    "    \n",
    "    area = height * width\n",
    "    total_cost = area * cost_per\n",
    "    \n",
    "    print('Your floor will cost $' + str(total_cost))"
   ]
  },
  {
   "cell_type": "code",
   "execution_count": 10,
   "metadata": {},
   "outputs": [
    {
     "name": "stdout",
     "output_type": "stream",
     "text": [
      "What is the cost of the tile per square foot? 4.00\n",
      "What is the height in feet? 9\n",
      "What is the width in feet? 15\n",
      "Your floor will cost $540.0\n"
     ]
    }
   ],
   "source": [
    "tile_cost()"
   ]
  },
  {
   "cell_type": "code",
   "execution_count": 65,
   "metadata": {},
   "outputs": [],
   "source": [
    "#Change Return Program\n",
    "# The user enters a cost and then the amount of money given.\n",
    "# The program will figure out the change and the number of\n",
    "# quarters, dimes, nickels, pennies needed for the change.\n",
    "\n",
    "def change_return():\n",
    "    \n",
    "    quarters = 0\n",
    "    dimes = 0\n",
    "    nickels = 0\n",
    "    pennies = 0\n",
    "    \n",
    "    cost = float(input('How much did it cost? $'))\n",
    "    paid = float(input('How much did you pay? $'))\n",
    "    change = paid - cost\n",
    "    \n",
    "    while change >= 1:\n",
    "        change -= 1\n",
    "    \n",
    "    c_change = round(change, 2)\n",
    "    print('The change in coins is ${}'.format(str(c_change)))\n",
    "    \n",
    "    while .99 >= c_change >= .25:\n",
    "        quarters += 1\n",
    "        c_change -= .25\n",
    "    c_change = round(c_change, 2)\n",
    "    \n",
    "    while .24 >= c_change >= .10:\n",
    "        dimes += 1\n",
    "        c_change -=.10\n",
    "    c_change = round(c_change, 2)\n",
    "\n",
    "    while .09 >= c_change >=.05:\n",
    "        nickels += 1\n",
    "        c_change -= .05\n",
    "    c_change = round(c_change, 2)\n",
    "\n",
    "    while .04 >= c_change > 0:\n",
    "        pennies += 1\n",
    "        c_change -=.01\n",
    "    c_change = round(c_change, 2)\n",
    "    \n",
    "    print('\\nYour coin change is:')\n",
    "    print(str(quarters) + ' Quarter(s)')\n",
    "    print(str(dimes) + ' Dime(s)')\n",
    "    print(str(nickels) + ' Nickel(s)')\n",
    "    print(str(pennies) + ' Penn(ies)')\n",
    "    \n",
    "   \n",
    "    "
   ]
  },
  {
   "cell_type": "code",
   "execution_count": 66,
   "metadata": {},
   "outputs": [],
   "source": [
    "def price_changer():\n",
    "    \n",
    "    price_list= [x for x in range(101)]\n",
    "    output_price = []\n",
    "    \n",
    "    for price in price_list:\n",
    "        output_price.append(price/100)\n",
    "        \n",
    "        \n",
    "    return output_price   "
   ]
  },
  {
   "cell_type": "code",
   "execution_count": 67,
   "metadata": {},
   "outputs": [
    {
     "name": "stdout",
     "output_type": "stream",
     "text": [
      "How much did it cost? $.01\n",
      "How much did you pay? $1\n",
      "The change in coins is $0.99\n",
      "\n",
      "Your coin change is:\n",
      "3 Quarter(s)\n",
      "2 Dime(s)\n",
      "0 Nickel(s)\n",
      "4 Penn(ies)\n"
     ]
    }
   ],
   "source": [
    "change_return()"
   ]
  },
  {
   "cell_type": "code",
   "execution_count": 45,
   "metadata": {},
   "outputs": [],
   "source": [
    "n = 26\n",
    "d = [1, 2, 3, 4, 5, 6, 7, 8, 9]\n",
    "\n",
    "def factor():\n",
    "    for i in d:\n",
    "        if (n/i) % 1 == 0:\n",
    "            l = n/i\n",
    "        else:\n",
    "            continue\n",
    "        \n",
    "    "
   ]
  },
  {
   "cell_type": "code",
   "execution_count": 46,
   "metadata": {},
   "outputs": [],
   "source": [
    "factor()"
   ]
  },
  {
   "cell_type": "code",
   "execution_count": 107,
   "metadata": {},
   "outputs": [
    {
     "data": {
      "text/plain": [
       "[2, 3, 4, 5, 6, 7, 8, 9, 10]"
      ]
     },
     "execution_count": 107,
     "metadata": {},
     "output_type": "execute_result"
    }
   ],
   "source": [
    "list(range(2,11))\n"
   ]
  },
  {
   "cell_type": "code",
   "execution_count": 55,
   "metadata": {},
   "outputs": [],
   "source": [
    "##prime factors!"
   ]
  },
  {
   "cell_type": "code",
   "execution_count": 19,
   "metadata": {},
   "outputs": [],
   "source": [
    "def prime_tester():\n",
    "    \n",
    "    num = int(input('What integer do you want to test? '))\n",
    "    pt = True\n",
    "    \n",
    "    for d in range(2,num):\n",
    "        if num % d == 0:\n",
    "            pt = False\n",
    "        else:\n",
    "            continue\n",
    "            \n",
    "    if num == 1:\n",
    "        print('The number is not prime')\n",
    "    elif pt == True:\n",
    "        print('The number is prime')\n",
    "    else:\n",
    "        print('The number is not prime')\n",
    "    "
   ]
  },
  {
   "cell_type": "code",
   "execution_count": 60,
   "metadata": {},
   "outputs": [],
   "source": [
    "def prime_factors():\n",
    "    \n",
    "    test_number = int(input('What integer do you want to test? '))\n",
    "    tn_prime = True\n",
    "    pt = True\n",
    "    \n",
    "    for factors in range(2,test_number):\n",
    "        if test_number % factors == 0:\n",
    "            tn_prime = False\n",
    "        else:\n",
    "            print(f'The number {test_number} you entered is a prime number')\n",
    "            \n",
    "            \n",
    "    while tn_prime == False:\n",
    "        for factor in range(2,test_number):\n",
    "            if test_number % factor == 0:\n",
    "                for sub_factor in range(2,factor):\n",
    "                    if factor%sub_factor == 0:\n",
    "                        pt = False\n",
    "                        continue\n",
    "                    else:\n",
    "                        print(f'{factor} is a prime factor')\n",
    "                        tn_prime = True\n",
    "            else:\n",
    "                continue\n",
    "        "
   ]
  },
  {
   "cell_type": "code",
   "execution_count": 1,
   "metadata": {},
   "outputs": [
    {
     "name": "stdout",
     "output_type": "stream",
     "text": [
      "3\n"
     ]
    }
   ],
   "source": [
    "for number in range(3,4):\n",
    "    print(number)"
   ]
  },
  {
   "cell_type": "code",
   "execution_count": null,
   "metadata": {},
   "outputs": [],
   "source": []
  }
 ],
 "metadata": {
  "kernelspec": {
   "display_name": "Python 3",
   "language": "python",
   "name": "python3"
  },
  "language_info": {
   "codemirror_mode": {
    "name": "ipython",
    "version": 3
   },
   "file_extension": ".py",
   "mimetype": "text/x-python",
   "name": "python",
   "nbconvert_exporter": "python",
   "pygments_lexer": "ipython3",
   "version": "3.7.3"
  }
 },
 "nbformat": 4,
 "nbformat_minor": 2
}
