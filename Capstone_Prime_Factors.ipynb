{
 "cells": [
  {
   "cell_type": "code",
   "execution_count": 26,
   "metadata": {},
   "outputs": [],
   "source": [
    "def find_prime_factors():\n",
    "    \n",
    "    test_number = int(input('What is your test integer? '))\n",
    "    factors = []\n",
    "    prime_factor_list = []\n",
    "    \n",
    "    if test_number == 2:\n",
    "        prime_factor_list.append(test_number)\n",
    "        \n",
    "    for factor in range(2,test_number+1):\n",
    "        if test_number % factor == 0:\n",
    "            factors.append(factor)\n",
    "        else:\n",
    "            continue\n",
    "            \n",
    "    print(factors)\n",
    "    \n",
    "    for test_factor in factors:\n",
    "        ifp = True\n",
    "        for sub_factor in range(2,test_factor):\n",
    "            if test_factor % sub_factor == 0:\n",
    "                ifp = False\n",
    "            else:\n",
    "                continue\n",
    "        if ifp == True:\n",
    "            prime_factor_list.append(test_factor)\n",
    "            \n",
    "    print(prime_factor_list)     \n",
    "\n",
    "    \n",
    "                \n",
    "                \n",
    "        "
   ]
  },
  {
   "cell_type": "code",
   "execution_count": 35,
   "metadata": {},
   "outputs": [
    {
     "name": "stdout",
     "output_type": "stream",
     "text": [
      "What is your test integer? 1\n",
      "[]\n",
      "[]\n"
     ]
    }
   ],
   "source": [
    "find_prime_factors()"
   ]
  },
  {
   "cell_type": "code",
   "execution_count": null,
   "metadata": {},
   "outputs": [],
   "source": []
  }
 ],
 "metadata": {
  "kernelspec": {
   "display_name": "Python 3",
   "language": "python",
   "name": "python3"
  },
  "language_info": {
   "codemirror_mode": {
    "name": "ipython",
    "version": 3
   },
   "file_extension": ".py",
   "mimetype": "text/x-python",
   "name": "python",
   "nbconvert_exporter": "python",
   "pygments_lexer": "ipython3",
   "version": "3.7.3"
  }
 },
 "nbformat": 4,
 "nbformat_minor": 2
}
